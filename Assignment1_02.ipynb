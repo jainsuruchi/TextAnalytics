{
 "cells": [
  {
   "cell_type": "markdown",
   "id": "59057573",
   "metadata": {},
   "source": [
    "**TASK 2: Write a scraper to retrieve data about month/year and price of this home. Sort by the month/year https://www.zillow.com/homedetails/10111-Parish-Pl-Cupertino-CA-95014/19620225_zpid/"
   ]
  },
  {
   "cell_type": "code",
   "execution_count": 3,
   "id": "88da005f",
   "metadata": {},
   "outputs": [],
   "source": [
    "import requests\n",
    "import json\n",
    "import pandas as pd\n",
    "from datetime import datetime"
   ]
  },
  {
   "cell_type": "markdown",
   "id": "7e966162",
   "metadata": {},
   "source": [
    "**Scraper to Retrieve Data \n",
    "json_homeValueChartData: payload; the query sent to zillow server\n",
    "get_json_homeValueChartData: get json query ready, zpid as input"
   ]
  },
  {
   "cell_type": "code",
   "execution_count": 7,
   "id": "081a1691",
   "metadata": {},
   "outputs": [
    {
     "name": "stdout",
     "output_type": "stream",
     "text": [
      "        Date    Value\n",
      "119  02/2012   676508\n",
      "118  03/2012   683436\n",
      "117  04/2012   701710\n",
      "116  05/2012   757372\n",
      "115  06/2012   791664\n",
      "..       ...      ...\n",
      "4    09/2021  1679200\n",
      "3    10/2021  1692700\n",
      "2    11/2021  1714100\n",
      "1    12/2021  1742400\n",
      "0    01/2022  2007500\n",
      "\n",
      "[120 rows x 2 columns]\n"
     ]
    }
   ],
   "source": [
    "url = 'https://www.zillow.com/graphql/'\n",
    "\n",
    "headers = {'authority': 'www.zillow.com', 'method':'POST', 'path': '/graphql/', 'scheme': 'https', 'accept-encoding': 'gzip, deflate, br', 'content-length': '33427', 'content-type': 'text/plain', 'accept-language': 'en-US,en;q=0.9,zh-CN;q=0.8,zh;q=0.7,zh-TW;q=0.6', 'cookie': 'zgsession=1|56c64ada-dbe1-4200-b318-6487819d3b39; zguid=23|%248b19f1c2-3a3e-4a1c-a24f-5af8ef4c6aee; _ga=GA1.2.188611168.1547788252; ajs_group_id=null; abtest=3|DMEw24dTeUepwe2z4A; _pxvid=6d089920-1adf-11e9-95ad-a50a06c791c9; _gcl_au=1.1.66054169.1547788255; KruxPixel=true; DoubleClickSession=true; KruxAddition=true; ajs_anonymous_id=%228b19f1c2-3a3e-4a1c-a24f-5af8ef4c6aee%22; __gads=ID=bbcc95c50c3fa53c:T=1547788279:S=ALNI_Mbeu_PV5j2kq4KVF3GIaVDgvYVfSg; _gid=GA1.2.1634940516.1547962495; _mkto_trk=id:324-WZA-498&token:_mch-zillow.com-1547965453998-52121; ajs_user_id=%22X1-ZU10entz7frr11l_7vqv3%22; loginmemento=1|5a1cf40384976f234eb82993644461093f28004a21e9622fb39f69bcd1ed0081; userid=X|3|5c004c7406222863%7C3%7Cyer2rXR2A-EMduYPxoqonLdWJdjEQjyUB7excgD3fCg%3D; _gaexp=GAX1.2.GF-12ik4QGu49NcsNKM8Aw.17992.1; ZILLOW_SSID=1|; _px3=a5cb1c780b9f1a348e6c3655c5399958e21e71406fc27404976e587b255f5511:JtL4bDEQEMtPIWcEGtPyTgwYK+yatbQBWqjaiL2x709YsVO3PVTznieosm2R42n88u3fFYFzokcTj9Q5FAqcww==:1000:LtIpp4goD8JYbMEY8YAAnrnENWyqDbdAa9UuA79/n3VMk4g0PUbpR+zQBEQDMM5Etqdj6rRP3Sie6loDo6KwhQbLcgV/E72jZxYji9btgO4pO+zq+cl62eio+RpOgF7zaZndUVHOhohR2GvovpoXJ9gUdX8VMzjLPeOHvtsV38Y=; JSESSIONID=A54AF0DD1BFBE3CC6499C18260B1FEAB; ZILLOW_SID=1|AAAAAVVbFRIBVVsVEqtWMNHh6meLuulBcblBkrZ7SxprqYMV%2FOMrhzAhS609nVDPCqOWFg%2FzzWTOFwOgEt%2FlHwYLsyap; _pxCaptcha=eyJyIjoiMDNBRjZqRHFYNnVmZ1ZTeTNFSVVOTWZ6ck41VmNMMnZyWDhncDFXTnR2MVREaGlEcFpNT0ZiYlpYV3hmV2d1d05IdTFfdzRYT25TdVJFRmN2VWI5ZGRVbU5yLW5fQS1HU1lVT0dOM19hQ1JFOTVXRTlKZHBYT2w2MzRRdmF6bVRRN29RT0xvUWVJYlJuVnhmTmtTVmdjdjJPak1EcVBOU3FscTFaUlNJaWloX19wc0w3cGJaNlp1Z1ZJcjIzTWRENUNKbG02TXhTbWxOUTU0ZnBfLWpRdXExeVFBei1YeHc1U2pQeXM3emxfdnlPdjlraTJ6eTRuNmZneFpyUXotRm9IZmRkMTA2M0dFcFZFcG1IX1B3amoxcDVHWllmM2V5VVJFaHdlbTVnX3ZxaWJDNEJjeHZ2cmQtUkdlZTRRY3VyT0dEYXU3Y1NISUcxTSIsInYiOiI2ZDA4OTkyMC0xYWRmLTExZTktOTVhZC1hNTBhMDZjNzkxYzkiLCJ1IjoiYTg3NjU3MzAtMWM3NS0xMWU5LWFjN2YtNGQwOTRlNzU3OTZmIn0=; search=6|1550636641359%7Cregion%3DCHICAGO-Illinois%26rect%3D41.959426%252C-87.589788%252C41.912434%252C-87.743597%26zm%3D12%26zpid%3D80622737%26disp%3Dmap%26mdm%3Dauto%26type%3Dhouse%26fs%3D0%26fr%3D0%26mmm%3D0%26rs%3D1%26ah%3D0%09%01%0984654%09%09%092%090%09US_%09; AWSALB=9hTToYccbfI/I1Z7fw8b0higZJ82/SOP449V0yLLlOn3ICs+D27CBt8lMpySIROGkrIA0exh8ApAxyzye+C7O78sufyCdLZ7j+dOpGPUjgu+YUdG2uQeGp/+pY42','origin': 'https://www.zillow.com','user-agent': 'Mozilla/5.0 (Macintosh; Intel Mac OS X 10_13_3) AppleWebKit/537.36 (KHTML, like Gecko) Chrome/71.0.3578.98 Safari/537.36'}\n",
    "\n",
    "def json_homeValueChartData(zpid):\n",
    "    #this is payload, i.e., the query sent to zillow server\n",
    "    chartData = {\"query\":\"query HomeValueChartDataQuery($zpid: ID!, $metricType: HomeValueChartMetricType, $timePeriod: HomeValueChartTimePeriod, $useNewChartAPI: Boolean) {\\n  property(zpid: $zpid) {\\n    homeValueChartData(metricType: $metricType, timePeriod: $timePeriod, useNewChartAPI: $useNewChartAPI) {\\n      points {\\n        x\\n        y\\n      }\\n      name\\n    }\\n  }\\n}\\n\",\"operationName\":\"HomeValueChartDataQuery\",\"variables\":{\"zpid\":19620225,\"timePeriod\":\"TEN_YEARS\",\"metricType\":\"LOCAL_HOME_VALUES\",\"forecast\":\"true\",\"useNewChartAPI\":\"false\"},\"clientVersion\":\"home-details/6.0.11.7110.master.06c814b\"}    \n",
    "    chartData['variables']['zpid']=zpid\n",
    "\n",
    "    return chartData\n",
    "\n",
    "def get_json_homeValueChartData(zpid):\n",
    "    #get json query ready, zpid as input\n",
    "    chartData = json_homeValueChartData(zpid)\n",
    "    \n",
    "    #x:unix date_time format y:price of home z:formatted date(mm/yy)\n",
    "    x=[]\n",
    "    y=[]\n",
    "    z=[]\n",
    "\n",
    "    try:\n",
    "        chart_req = requests.post(url=url, json=chartData, headers=headers) #send request to zillow server\n",
    "        chart_out = json.loads(chart_req.text) #get the response from zillow server and load as json object\n",
    "\n",
    "        #parse the json object to extract dates checking response hiearachy\n",
    "        output = chart_out['data']['property']['homeValueChartData'][0]['points']\n",
    "    \n",
    "        #print(len(output))\n",
    "        \n",
    "        for i in range(len(output)):\n",
    "            x.append(output[i]['x']//1000) #//1000 to convert in date_time format\n",
    "            y.append(output[i]['y'])\n",
    "            \n",
    "        for i in range(len(x)):\n",
    "            z.append(datetime.fromtimestamp(x[i]).strftime('%m/%Y'))\n",
    "            \n",
    "        #storing date(month/year) in z & price of house in y\n",
    "        df = pd.DataFrame({'Date' : z, 'Value' : y}) \n",
    "        \n",
    "        df = df.iloc[::-1] #Sort by month/year \n",
    " 
    "   
    "        return df\n",
    "\n",
    "    except Exception as e:\n",
    "        print ('error not 200, walk score, try again', e)\n",
    "        return output\n",
    "\n",
    "print (get_json_homeValueChartData(19620225))"
   ]
  },
  {
   "cell_type": "code",
   "execution_count": null,
   "id": "ddc2051a",
   "metadata": {},
   "outputs": [],
   "source": []
  }
 ],
 "metadata": {
  "kernelspec": {
   "display_name": "Python 3 (ipykernel)",
   "language": "python",
   "name": "python3"
  },
  "language_info": {
   "codemirror_mode": {
    "name": "ipython",
    "version": 3
   },
   "file_extension": ".py",
   "mimetype": "text/x-python",
   "name": "python",
   "nbconvert_exporter": "python",
   "pygments_lexer": "ipython3",
   "version": "3.9.7"
  }
 },
 "nbformat": 4,
 "nbformat_minor": 5
}
